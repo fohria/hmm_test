{
 "cells": [
  {
   "cell_type": "markdown",
   "metadata": {},
   "source": [
    "# testing hmm functions\n",
    "\n",
    "start by importing our functions:"
   ]
  },
  {
   "cell_type": "code",
   "execution_count": null,
   "metadata": {},
   "outputs": [],
   "source": [
    "import numpy as np\n",
    "import os\n",
    "os.chdir('/Users/foh/MEGAsync/phd/growing/hmm-master/shaping')\n",
    "from itertools import product\n",
    "\n",
    "# autoload functions\n",
    "%load_ext autoreload\n",
    "%autoreload 2\n",
    "\n",
    "from hmm import setup_example, generate_observations\n",
    "from hmm import alpha, beta, delta_and_psi_and_q, xi, gamma, lambda_step_update\n",
    "from hmm import prob_of_obs_given_lambda"
   ]
  },
  {
   "cell_type": "markdown",
   "metadata": {},
   "source": [
    "content based on youtube lecture series[^1]. that's in turn based on Rabiner (1989)[^2]."
   ]
  },
  {
   "cell_type": "markdown",
   "metadata": {},
   "source": [
    "## example HMM\n",
    "\n",
    "we use a simplified HMM, where each state can emit only one typ of observation. this makes it similar to shape sequence task.\n",
    "\n",
    "> **question**: do any of the algorithms/functions break down because of this? do any of the mathematical definitions require that all states have a non-zero chance of emitting each possible observation?\n",
    "\n",
    "attempt to answer: Rabiner's urn example (figure 3) is phrased like this shouldn't pose a problem, but it's not explicit.\n",
    "\n",
    "our example model $\\lambda$ consists of transition matrix $A$, observation function $B$ and initial probabilities $\\pi$.\n",
    "\n",
    "### model: $\\lambda = (A, B, \\pi)$\n",
    "\n",
    "$N = 3$ states:\n",
    "$$S = \\{S_1, S_2, S_3\\}$$\n",
    "\n",
    "$$A= \\{a_{ij}\\} = \\begin{bmatrix}\n",
    "0.4 & 0.3 & 0.3 \\\\\n",
    "0.2 & 0.6 & 0.2 \\\\\n",
    "0.1 & 0.1 & 0.8\n",
    "\\end{bmatrix}$$\n",
    "\n",
    "$M = 3$ observable symbols:\n",
    "\n",
    "$$V = \\{ v_1, v_2, v_3 \\} = \\{ red, green, blue \\}$$\n",
    "\n",
    "observation function:\n",
    "\n",
    "$$B = \\{b_j(k)\\} = \\begin{bmatrix}\n",
    "1 & 0 & 0 \\\\\n",
    "0 & 1 & 0 \\\\\n",
    "0 & 0 & 1\n",
    "\\end{bmatrix}$$\n",
    "\n",
    "where\n",
    "$$b_j(k) = P(v_k \\space at \\space t | q_t = S_j)$$\n",
    "\n",
    "and finally the initial probabilities:\n",
    "\n",
    "$$\\pi = \\begin{bmatrix}1/3 & 1/3 & 1/3\\end{bmatrix}$$\n",
    "\n",
    "the model is hard codedly defined in the `setup_example` function:"
   ]
  },
  {
   "cell_type": "code",
   "execution_count": null,
   "metadata": {},
   "outputs": [],
   "source": [
    "from hmm import setup_example\n",
    "\n",
    "# return dictionary λ = {'A': A, 'B': B, 'π': π}\n",
    "λ = setup_example()"
   ]
  },
  {
   "cell_type": "markdown",
   "metadata": {},
   "source": [
    "we also need a way to generate data with this model, which we can do with the `generate_observations` function:"
   ]
  },
  {
   "cell_type": "code",
   "execution_count": null,
   "metadata": {},
   "outputs": [],
   "source": [
    "from hmm import generate_observations\n",
    "\n",
    "T = 10  # 10 timesteps\n",
    "Q, O = generate_observations(λ, T)"
   ]
  },
  {
   "cell_type": "markdown",
   "metadata": {},
   "source": [
    "where we have state sequence $Q=\\{ q_1, q_2, .. , q_T\\}$ and observations $O=\\{o_1,o_2,..,o_T\\}$.\n",
    "\n",
    "each state $q_t \\in S$ generates an observation from $B = \\{b_j(k)\\}$"
   ]
  },
  {
   "cell_type": "markdown",
   "metadata": {},
   "source": [
    "## questions to ask about this HMM\n",
    "\n",
    "we will attempt to answer three questions about our HMM:\n",
    "\n",
    "- $P(O|\\lambda)$ -- what’s the probability that model X generated sequence of observations?\n",
    "\n",
    "- $P(Q | O)$ -- what sequence of states best explain the observations?\n",
    "\n",
    "- $P(\\lambda|O)$ -- how to learn the model probabilities that would generate the observations?"
   ]
  },
  {
   "cell_type": "markdown",
   "metadata": {},
   "source": [
    "## likelihood: $P(O | \\lambda)$ and $\\alpha$ function\n",
    "\n",
    "because how α works, the follwing is true:\n",
    "\n",
    "$$P(O | \\lambda) = \\sum\\limits_{i=1}^N \\alpha_T(i)$$\n",
    "\n",
    "we can thus get the likelihood of an observation sequence:"
   ]
  },
  {
   "cell_type": "code",
   "execution_count": null,
   "metadata": {},
   "outputs": [],
   "source": [
    "from hmm import alpha\n",
    "\n",
    "α = alpha(O, λ)\n",
    "print(sum(alpha(O, λ)[-1]))  # last column is -1"
   ]
  },
  {
   "cell_type": "markdown",
   "metadata": {},
   "source": [
    "we can confirm this result using the following mathematical relationship (details in Rabiner paper):\n",
    "\n",
    "$$P(O | \\lambda) = \\sum_{allQ}P(O | Q, \\lambda) P(Q|\\lambda)$$\n",
    "\n",
    "since all possible $Q$ quickly gets huge - $N^T$ combinations - we can't practically use this, which is why we have our $\\alpha$ function, but we can test on very short sequences:"
   ]
  },
  {
   "cell_type": "code",
   "execution_count": null,
   "metadata": {},
   "outputs": [],
   "source": [
    "from hmm import prob_of_obs_given_lambda\n",
    "\n",
    "T = 5  # even with T=10 we get pretty long execution times\n",
    "Q, O = generate_observations(λ, T)\n",
    "print(prob_of_obs_given_lambda(O, λ))\n",
    "print(sum(alpha(O, λ)[-1]))"
   ]
  },
  {
   "cell_type": "markdown",
   "metadata": {},
   "source": [
    "great! it would be very unlikely we get the same exact results here if we made mistakes in any of the functions used. which means we can be reasonably secure believing alpha works as it should."
   ]
  },
  {
   "cell_type": "markdown",
   "metadata": {},
   "source": [
    "## beta function\n",
    "\n",
    "the beta function goes backwards from time $T$ and is intuitively understood as similar to alpha just from the other direction. therefore it's an easy step to think you can sum over the first column of beta to get $P(O|\\lambda)$ for the purpose of testing the output of our beta function:\n"
   ]
  },
  {
   "cell_type": "code",
   "execution_count": null,
   "metadata": {},
   "outputs": [],
   "source": [
    "from hmm import beta\n",
    "\n",
    "β = beta(O, λ)\n",
    "print(sum(β[0]))"
   ]
  },
  {
   "cell_type": "markdown",
   "metadata": {},
   "source": [
    "nope.\n",
    "\n",
    "> **question** why doesn't this work for beta?\n",
    "\n",
    "In Rabiner, the comments on equation 24 state that $\\beta_T(i) = 1$ is chosen arbitrarily. So we have set $\\beta_T(i) = 1/3$ (that's the case for the above result as well) - same as our $\\pi$ - and that gives an interesting result:"
   ]
  },
  {
   "cell_type": "code",
   "execution_count": null,
   "metadata": {},
   "outputs": [],
   "source": [
    "print(β[0])\n",
    "print(sum(alpha(O, λ)[-1]))"
   ]
  },
  {
   "cell_type": "markdown",
   "metadata": {},
   "source": [
    "notice that `β[0,1]` is the value we are looking for. that index happens to be the index of the state the true sequence was in at the same timestep $t=1$ (`t=0` in the code because python is zero indexed):"
   ]
  },
  {
   "cell_type": "code",
   "execution_count": null,
   "metadata": {},
   "outputs": [],
   "source": [
    "print(Q)"
   ]
  },
  {
   "cell_type": "markdown",
   "metadata": {},
   "source": [
    "Q uses 1-index for the states, so for example `q[0] = S2` is the value `β[0,1]`.\n",
    "\n",
    "> **question** what's going on here? this feels unlikely to be a coincidence since it works every time, so what's up?\n",
    "\n",
    "> **question** can we use this as indirect proof our beta function works?\n",
    "\n",
    "## viterbi algorithm: $P(Q | O)$\n",
    "\n",
    "viterbi uses the so called delta and psi functions (details in Rabiner paper):"
   ]
  },
  {
   "cell_type": "code",
   "execution_count": null,
   "metadata": {},
   "outputs": [],
   "source": [
    "from hmm import delta_and_psi_and_q\n",
    "\n",
    "δ, ψ, q = delta_and_psi_and_q(O, λ)"
   ]
  },
  {
   "cell_type": "markdown",
   "metadata": {},
   "source": [
    "in short, $\\delta$ contains probabilities of each state throughout our sequence based on the observations, so $\\psi$ uses that to record the most probable state at each step.\n",
    "\n",
    "therefore we get the final step by:\n",
    "\n",
    "$$q^*_T=argmax_{1\\leq j \\leq N}[\\delta_T(i)]$$\n",
    "\n",
    "and to find the entire chain we go backwards from $q^*_T$:\n",
    "\n",
    "$$\n",
    "q^*_t=\\psi_{t+1}(q^*_{t+1})\n",
    "$$\n",
    "\n",
    "the viterbi results are thus easy to check against the true state sequence $Q$:"
   ]
  },
  {
   "cell_type": "code",
   "execution_count": null,
   "metadata": {},
   "outputs": [],
   "source": [
    "print(Q)\n",
    "print(q)"
   ]
  },
  {
   "cell_type": "markdown",
   "metadata": {},
   "source": [
    "## gamma and xi\n",
    "\n",
    "![](images/xi_and_gamma.jpg)\n",
    "\n",
    "- **$\\gamma$** is the probability of being in $S_i$ at time $t$\n",
    "    - we can get probability of *ever* being in $S_i$ by summing over all $t$\n",
    "        - this is the expected number of times $S_i$ is visited\n",
    "- **$\\xi$** is the probability of transitioning from $S_i$ to $S_j$ at time $t$\n",
    "    - sum over all $t$ to get probability of *ever* going from $S_i$ to $S_j$\n",
    "        - expected number of times transit from $i$ to $j$\n",
    "\n",
    "there's a nice relationship between these two:\n",
    "\n",
    "$$\\gamma_t(i) = \\sum\\limits_{j=1}^N \\xi_t(i, j)$$\n",
    "\n",
    "to test this in code:"
   ]
  },
  {
   "cell_type": "code",
   "execution_count": null,
   "metadata": {},
   "outputs": [],
   "source": [
    "from hmm import xi, gamma\n",
    "\n",
    "γ = gamma(O, λ, α, β)\n",
    "ξ = xi(α, β, λ, O)\n",
    "N = len(λ['B'])\n",
    "\n",
    "for t, i in product(range(T-2), range(N)):  # T-1 without zero index\n",
    "    ξsum = sum([ξ[t, i, j] for j in range(N)])\n",
    "    print(f\"for t, i: {t, i}\")\n",
    "    print(f\"ξsum is {ξsum} and γ is {γ[t,i]}\")\n",
    "    print(f\"equal? {γ[t, i] == ξsum}\")\n",
    "    print(\"::::::::::::::::::::::::::::::\")"
   ]
  },
  {
   "cell_type": "markdown",
   "metadata": {},
   "source": [
    "the times it's true is because we are using observation functions that have $p=0$ for observations.\n",
    "\n",
    "> **question** why doesn't it work? we've tried using observation functions where we have small probabilities for all observations but that doesn't help. so there's an error somewhere..\n",
    "\n",
    "> **question** can we check the output of $\\gamma$ and $\\xi$ separately? how?\n",
    "\n",
    "## baum-welch: lambda update, $P(\\lambda | O)$\n",
    "\n",
    "given $\\alpha, \\beta, \\gamma, \\xi$, we can produce $\\bar\\lambda = (\\bar A, \\bar B, \\bar \\pi)$\n",
    "\n",
    "to find (new) parameter values for our model based on observations we exploit the gamma and xi functions absed on the above mentioned properties:\n",
    "\n",
    "- $\\bar \\pi = \\gamma_1(i)$ - expected frequency in $S_i$ at time $t=1$\n",
    "\n",
    "> **question** this seems like an arbitrary definition, like with $\\beta_T(i) = 1$ above, no?\n",
    "\n",
    "- $\\bar A = \\{\\bar a_{ij}\\} = \\frac{\\sum\\limits_{t=1}^{T-1} \\xi_t(i, j)}{\\sum\\limits_{t=1}^{T-1} \\gamma_t(i)}$ - transition matrix\n",
    "\n",
    "- $\\bar B = \\{ \\bar b_j(k) \\}, \\space\\space\\space \\bar b_j(k) = \\frac{\\sum\\limits_{t=1}^T \\gamma_t(j)}{\\sum\\limits_{t=1}^T \\gamma_t(j)}$ - observation function (1)\n",
    "\n",
    "note than in nominator of (1) we only select those cases in state $j$ where we observe $v_k$, which is divided by the total timesteps we are in state $j$\n",
    "\n",
    "we can now test our lambda step update:"
   ]
  },
  {
   "cell_type": "code",
   "execution_count": null,
   "metadata": {},
   "outputs": [],
   "source": [
    "λ = setup_example()\n",
    "Q, O = generate_observations(λ, 100)\n",
    "α = alpha(O, λ)\n",
    "β = beta(O, λ)\n",
    "γ = gamma(O, λ, α, β)\n",
    "ξ = xi(α, β, λ, O)\n",
    "λbar = lambda_step_update(γ, ξ, O)\n",
    "print(λbar)"
   ]
  },
  {
   "cell_type": "markdown",
   "metadata": {},
   "source": [
    "> **question** difficult to know if this works when $\\gamma$ and/or $\\xi$ doesn't seem to work. how do we know it works?\n",
    "\n",
    "> **question** this currently uses our existing λ model. how do we find values if we don't know the model? random guesses/priors?\n",
    "\n",
    "## references\n",
    "\n",
    "[^1]: fdf [lecture series by ryan reynolds lookalike](https://www.youtube.com/watch?v=cYjPUMAqIUo&list=PLix7MmR3doRo3NGNzrq48FItR3TDyuLCo&index=2)\n",
    "[^2]: sdf [Rabiner 1989](https://courses.physics.illinois.edu/ece417/fa2017/rabiner89.pdf)"
   ]
  }
 ],
 "metadata": {
  "jupytext": {
   "cell_metadata_filter": "-all",
   "main_language": "python",
   "notebook_metadata_filter": "-all"
  }
 },
 "nbformat": 4,
 "nbformat_minor": 4
}
